{
  "nbformat": 4,
  "nbformat_minor": 0,
  "metadata": {
    "colab": {
      "provenance": [],
      "authorship_tag": "ABX9TyOADlvW9I5ZFt72CRtLkRC2",
      "include_colab_link": true
    },
    "kernelspec": {
      "name": "python3",
      "display_name": "Python 3"
    },
    "language_info": {
      "name": "python"
    }
  },
  "cells": [
    {
      "cell_type": "markdown",
      "metadata": {
        "id": "view-in-github",
        "colab_type": "text"
      },
      "source": [
        "<a href=\"https://colab.research.google.com/github/navya-shree16/Dailyassignment/blob/main/Assignment(3).ipynb\" target=\"_parent\"><img src=\"https://colab.research.google.com/assets/colab-badge.svg\" alt=\"Open In Colab\"/></a>"
      ]
    },
    {
      "cell_type": "code",
      "source": [
        "import pandas as pd\n",
        "\n",
        "# Sample data\n",
        "data = {\n",
        "    'Age': [20, 25, 30, 35, 40],\n",
        "    'Salary': [30000, 40000, 50000, 60000, 70000]\n",
        "}\n",
        "\n",
        "df = pd.DataFrame(data)\n",
        "print(\"Original Data:\\n\", df)\n",
        "\n",
        "# Min-Max Scaling\n",
        "min_max_scaled = (df - df.min()) / (df.max() - df.min())\n",
        "print(\"\\nMin-Max Scaled Data:\\n\", min_max_scaled)\n",
        "\n",
        "# Standardization\n",
        "standardized = (df - df.mean()) / df.std()\n",
        "print(\"\\nStandardized Data:\\n\", standardized)"
      ],
      "metadata": {
        "colab": {
          "base_uri": "https://localhost:8080/"
        },
        "id": "1bk0iojR3Les",
        "outputId": "3da0d8c6-f65c-46d4-f29d-4122f4b1725b"
      },
      "execution_count": 3,
      "outputs": [
        {
          "output_type": "stream",
          "name": "stdout",
          "text": [
            "Original Data:\n",
            "    Age  Salary\n",
            "0   20   30000\n",
            "1   25   40000\n",
            "2   30   50000\n",
            "3   35   60000\n",
            "4   40   70000\n",
            "\n",
            "Min-Max Scaled Data:\n",
            "     Age  Salary\n",
            "0  0.00    0.00\n",
            "1  0.25    0.25\n",
            "2  0.50    0.50\n",
            "3  0.75    0.75\n",
            "4  1.00    1.00\n",
            "\n",
            "Standardized Data:\n",
            "         Age    Salary\n",
            "0 -1.264911 -1.264911\n",
            "1 -0.632456 -0.632456\n",
            "2  0.000000  0.000000\n",
            "3  0.632456  0.632456\n",
            "4  1.264911  1.264911\n"
          ]
        }
      ]
    },
    {
      "cell_type": "code",
      "source": [
        "# Part 1: Probability of heads and tails\n",
        "total_flips = 100\n",
        "heads = 60\n",
        "tails = 40\n",
        "\n",
        "p_heads = heads / total_flips\n",
        "p_tails = tails / total_flips\n",
        "\n",
        "print(\"Probability of Heads:\", p_heads)\n",
        "print(\"Probability of Tails:\", p_tails)\n",
        "\n",
        "# Part 2: Bayes’ Theorem Example\n",
        "# Given:\n",
        "# P(Disease) = 0.01\n",
        "# P(Positive | Disease) = 0.99\n",
        "# P(Positive | No Disease) = 0.05\n",
        "\n",
        "p_disease = 0.01\n",
        "p_positive_given_disease = 0.99\n",
        "p_positive_given_no_disease = 0.05\n",
        "p_no_disease = 1 - p_disease\n",
        "\n",
        "# Bayes' Theorem\n",
        "p_positive = (p_positive_given_disease * p_disease) + \\\n",
        "             (p_positive_given_no_disease * p_no_disease)\n",
        "\n",
        "p_disease_given_positive = (p_positive_given_disease * p_disease) / p_positive\n",
        "\n",
        "print(\"Probability of having disease given positive test:\", p_disease_given_positive)"
      ],
      "metadata": {
        "colab": {
          "base_uri": "https://localhost:8080/"
        },
        "id": "jqLmDNdu3NSf",
        "outputId": "587deb28-8913-4fc6-d59d-2ebc4242b9b8"
      },
      "execution_count": 4,
      "outputs": [
        {
          "output_type": "stream",
          "name": "stdout",
          "text": [
            "Probability of Heads: 0.6\n",
            "Probability of Tails: 0.4\n",
            "Probability of having disease given positive test: 0.16666666666666669\n"
          ]
        }
      ]
    }
  ]
}